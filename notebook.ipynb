{
 "cells": [
  {
   "cell_type": "code",
   "execution_count": 1,
   "id": "7ff9ab0c",
   "metadata": {
    "_cell_guid": "b1076dfc-b9ad-4769-8c92-a6c4dae69d19",
    "_uuid": "8f2839f25d086af736a60e9eeb907d3b93b6e0e5",
    "execution": {
     "iopub.execute_input": "2023-03-13T03:51:17.892321Z",
     "iopub.status.busy": "2023-03-13T03:51:17.891714Z",
     "iopub.status.idle": "2023-03-13T03:51:17.903418Z",
     "shell.execute_reply": "2023-03-13T03:51:17.902210Z"
    },
    "papermill": {
     "duration": 0.021485,
     "end_time": "2023-03-13T03:51:17.905878",
     "exception": false,
     "start_time": "2023-03-13T03:51:17.884393",
     "status": "completed"
    },
    "tags": []
   },
   "outputs": [
    {
     "name": "stdout",
     "output_type": "stream",
     "text": [
      "/kaggle/input/playground-series-s3e10/sample_submission.csv\n",
      "/kaggle/input/playground-series-s3e10/train.csv\n",
      "/kaggle/input/playground-series-s3e10/test.csv\n"
     ]
    }
   ],
   "source": [
    "# This Python 3 environment comes with many helpful analytics libraries installed\n",
    "# It is defined by the kaggle/python Docker image: https://github.com/kaggle/docker-python\n",
    "# For example, here's several helpful packages to load\n",
    "\n",
    "import numpy as np # linear algebra\n",
    "import pandas as pd # data processing, CSV file I/O (e.g. pd.read_csv)\n",
    "\n",
    "# Input data files are available in the read-only \"../input/\" directory\n",
    "# For example, running this (by clicking run or pressing Shift+Enter) will list all files under the input directory\n",
    "\n",
    "import os\n",
    "for dirname, _, filenames in os.walk('/kaggle/input'):\n",
    "    for filename in filenames:\n",
    "        print(os.path.join(dirname, filename))\n",
    "\n",
    "# You can write up to 20GB to the current directory (/kaggle/working/) that gets preserved as output when you create a version using \"Save & Run All\" \n",
    "# You can also write temporary files to /kaggle/temp/, but they won't be saved outside of the current session"
   ]
  },
  {
   "cell_type": "code",
   "execution_count": 2,
   "id": "37e30425",
   "metadata": {
    "execution": {
     "iopub.execute_input": "2023-03-13T03:51:17.917737Z",
     "iopub.status.busy": "2023-03-13T03:51:17.917388Z",
     "iopub.status.idle": "2023-03-13T03:51:18.413784Z",
     "shell.execute_reply": "2023-03-13T03:51:18.412592Z"
    },
    "papermill": {
     "duration": 0.505125,
     "end_time": "2023-03-13T03:51:18.416380",
     "exception": false,
     "start_time": "2023-03-13T03:51:17.911255",
     "status": "completed"
    },
    "tags": []
   },
   "outputs": [],
   "source": [
    "df = pd.read_csv(\"/kaggle/input/playground-series-s3e10/train.csv\")\n",
    "real_test = pd.read_csv(\"/kaggle/input/playground-series-s3e10/test.csv\")\n",
    "samp_sub = pd.read_csv(\"/kaggle/input/playground-series-s3e10/sample_submission.csv\")"
   ]
  },
  {
   "cell_type": "code",
   "execution_count": 3,
   "id": "64c6dd3f",
   "metadata": {
    "execution": {
     "iopub.execute_input": "2023-03-13T03:51:18.428731Z",
     "iopub.status.busy": "2023-03-13T03:51:18.427783Z",
     "iopub.status.idle": "2023-03-13T03:51:18.455237Z",
     "shell.execute_reply": "2023-03-13T03:51:18.454183Z"
    },
    "papermill": {
     "duration": 0.037279,
     "end_time": "2023-03-13T03:51:18.458863",
     "exception": false,
     "start_time": "2023-03-13T03:51:18.421584",
     "status": "completed"
    },
    "tags": []
   },
   "outputs": [
    {
     "name": "stdout",
     "output_type": "stream",
     "text": [
      "<class 'pandas.core.frame.DataFrame'>\n",
      "RangeIndex: 117564 entries, 0 to 117563\n",
      "Data columns (total 10 columns):\n",
      " #   Column                Non-Null Count   Dtype  \n",
      "---  ------                --------------   -----  \n",
      " 0   id                    117564 non-null  int64  \n",
      " 1   Mean_Integrated       117564 non-null  float64\n",
      " 2   SD                    117564 non-null  float64\n",
      " 3   EK                    117564 non-null  float64\n",
      " 4   Skewness              117564 non-null  float64\n",
      " 5   Mean_DMSNR_Curve      117564 non-null  float64\n",
      " 6   SD_DMSNR_Curve        117564 non-null  float64\n",
      " 7   EK_DMSNR_Curve        117564 non-null  float64\n",
      " 8   Skewness_DMSNR_Curve  117564 non-null  float64\n",
      " 9   Class                 117564 non-null  int64  \n",
      "dtypes: float64(8), int64(2)\n",
      "memory usage: 9.0 MB\n"
     ]
    }
   ],
   "source": [
    "df.info()"
   ]
  },
  {
   "cell_type": "code",
   "execution_count": 4,
   "id": "226f0296",
   "metadata": {
    "execution": {
     "iopub.execute_input": "2023-03-13T03:51:18.472722Z",
     "iopub.status.busy": "2023-03-13T03:51:18.471534Z",
     "iopub.status.idle": "2023-03-13T03:51:18.480364Z",
     "shell.execute_reply": "2023-03-13T03:51:18.479251Z"
    },
    "papermill": {
     "duration": 0.017306,
     "end_time": "2023-03-13T03:51:18.482614",
     "exception": false,
     "start_time": "2023-03-13T03:51:18.465308",
     "status": "completed"
    },
    "tags": []
   },
   "outputs": [
    {
     "data": {
      "text/plain": [
       "10967"
      ]
     },
     "execution_count": 4,
     "metadata": {},
     "output_type": "execute_result"
    }
   ],
   "source": [
    "df[\"Class\"].sum()\n",
    "#we r trying to predict class"
   ]
  },
  {
   "cell_type": "code",
   "execution_count": 5,
   "id": "a7999b52",
   "metadata": {
    "execution": {
     "iopub.execute_input": "2023-03-13T03:51:18.494732Z",
     "iopub.status.busy": "2023-03-13T03:51:18.494299Z",
     "iopub.status.idle": "2023-03-13T03:51:19.608208Z",
     "shell.execute_reply": "2023-03-13T03:51:19.606634Z"
    },
    "papermill": {
     "duration": 1.123244,
     "end_time": "2023-03-13T03:51:19.611126",
     "exception": false,
     "start_time": "2023-03-13T03:51:18.487882",
     "status": "completed"
    },
    "tags": []
   },
   "outputs": [
    {
     "data": {
      "text/plain": [
       "array([[<AxesSubplot:title={'center':'id'}>,\n",
       "        <AxesSubplot:title={'center':'Mean_Integrated'}>,\n",
       "        <AxesSubplot:title={'center':'SD'}>],\n",
       "       [<AxesSubplot:title={'center':'EK'}>,\n",
       "        <AxesSubplot:title={'center':'Skewness'}>,\n",
       "        <AxesSubplot:title={'center':'Mean_DMSNR_Curve'}>],\n",
       "       [<AxesSubplot:title={'center':'SD_DMSNR_Curve'}>,\n",
       "        <AxesSubplot:title={'center':'EK_DMSNR_Curve'}>,\n",
       "        <AxesSubplot:title={'center':'Skewness_DMSNR_Curve'}>],\n",
       "       [<AxesSubplot:title={'center':'Class'}>, <AxesSubplot:>,\n",
       "        <AxesSubplot:>]], dtype=object)"
      ]
     },
     "execution_count": 5,
     "metadata": {},
     "output_type": "execute_result"
    },
    {
     "data": {
      "image/png": "[encoded data removed]",
      "text/plain": [
       "<Figure size 640x480 with 12 Axes>"
      ]
     },
     "metadata": {},
     "output_type": "display_data"
    }
   ],
   "source": [
    "df.hist()"
   ]
  },
  {
   "cell_type": "code",
   "execution_count": 6,
   "id": "f662fa06",
   "metadata": {
    "execution": {
     "iopub.execute_input": "2023-03-13T03:51:19.624952Z",
     "iopub.status.busy": "2023-03-13T03:51:19.624561Z",
     "iopub.status.idle": "2023-03-13T03:51:19.656988Z",
     "shell.execute_reply": "2023-03-13T03:51:19.655879Z"
    },
    "papermill": {
     "duration": 0.041944,
     "end_time": "2023-03-13T03:51:19.659319",
     "exception": false,
     "start_time": "2023-03-13T03:51:19.617375",
     "status": "completed"
    },
    "tags": []
   },
   "outputs": [
    {
     "data": {
      "text/html": [
       "<div>\n",
       "<style scoped>\n",
       "    .dataframe tbody tr th:only-of-type {\n",
       "        vertical-align: middle;\n",
       "    }\n",
       "\n",
       "    .dataframe tbody tr th {\n",
       "        vertical-align: top;\n",
       "    }\n",
       "\n",
       "    .dataframe thead th {\n",
       "        text-align: right;\n",
       "    }\n",
       "</style>\n",
       "<table border=\"1\" class=\"dataframe\">\n",
       "  <thead>\n",
       "    <tr style=\"text-align: right;\">\n",
       "      <th></th>\n",
       "      <th>id</th>\n",
       "      <th>Mean_Integrated</th>\n",
       "      <th>SD</th>\n",
       "      <th>EK</th>\n",
       "      <th>Skewness</th>\n",
       "      <th>Mean_DMSNR_Curve</th>\n",
       "      <th>SD_DMSNR_Curve</th>\n",
       "      <th>EK_DMSNR_Curve</th>\n",
       "      <th>Skewness_DMSNR_Curve</th>\n",
       "    </tr>\n",
       "  </thead>\n",
       "  <tbody>\n",
       "    <tr>\n",
       "      <th>0</th>\n",
       "      <td>117564</td>\n",
       "      <td>140.046875</td>\n",
       "      <td>54.507800</td>\n",
       "      <td>0.058862</td>\n",
       "      <td>-0.567263</td>\n",
       "      <td>2.337793</td>\n",
       "      <td>14.868335</td>\n",
       "      <td>9.591760</td>\n",
       "      <td>117.988781</td>\n",
       "    </tr>\n",
       "    <tr>\n",
       "      <th>1</th>\n",
       "      <td>117565</td>\n",
       "      <td>107.828125</td>\n",
       "      <td>51.578965</td>\n",
       "      <td>0.284368</td>\n",
       "      <td>-0.338430</td>\n",
       "      <td>1.574415</td>\n",
       "      <td>12.501437</td>\n",
       "      <td>11.694968</td>\n",
       "      <td>182.704822</td>\n",
       "    </tr>\n",
       "    <tr>\n",
       "      <th>2</th>\n",
       "      <td>117566</td>\n",
       "      <td>135.062500</td>\n",
       "      <td>49.812343</td>\n",
       "      <td>-0.087784</td>\n",
       "      <td>-0.094341</td>\n",
       "      <td>3.576923</td>\n",
       "      <td>21.243336</td>\n",
       "      <td>7.252386</td>\n",
       "      <td>59.021499</td>\n",
       "    </tr>\n",
       "    <tr>\n",
       "      <th>3</th>\n",
       "      <td>117567</td>\n",
       "      <td>112.812500</td>\n",
       "      <td>41.926647</td>\n",
       "      <td>0.519921</td>\n",
       "      <td>1.287762</td>\n",
       "      <td>6.669732</td>\n",
       "      <td>29.013153</td>\n",
       "      <td>5.097661</td>\n",
       "      <td>27.105240</td>\n",
       "    </tr>\n",
       "    <tr>\n",
       "      <th>4</th>\n",
       "      <td>117568</td>\n",
       "      <td>96.210938</td>\n",
       "      <td>35.322620</td>\n",
       "      <td>0.481286</td>\n",
       "      <td>2.443080</td>\n",
       "      <td>2.218227</td>\n",
       "      <td>17.041064</td>\n",
       "      <td>9.766006</td>\n",
       "      <td>117.131775</td>\n",
       "    </tr>\n",
       "    <tr>\n",
       "      <th>...</th>\n",
       "      <td>...</td>\n",
       "      <td>...</td>\n",
       "      <td>...</td>\n",
       "      <td>...</td>\n",
       "      <td>...</td>\n",
       "      <td>...</td>\n",
       "      <td>...</td>\n",
       "      <td>...</td>\n",
       "      <td>...</td>\n",
       "    </tr>\n",
       "    <tr>\n",
       "      <th>78372</th>\n",
       "      <td>195936</td>\n",
       "      <td>119.328125</td>\n",
       "      <td>46.449223</td>\n",
       "      <td>0.227636</td>\n",
       "      <td>0.161986</td>\n",
       "      <td>1.120401</td>\n",
       "      <td>13.883072</td>\n",
       "      <td>14.153556</td>\n",
       "      <td>213.485463</td>\n",
       "    </tr>\n",
       "    <tr>\n",
       "      <th>78373</th>\n",
       "      <td>195937</td>\n",
       "      <td>125.835938</td>\n",
       "      <td>43.986678</td>\n",
       "      <td>0.078460</td>\n",
       "      <td>0.077917</td>\n",
       "      <td>2.342809</td>\n",
       "      <td>13.008583</td>\n",
       "      <td>9.907167</td>\n",
       "      <td>136.815454</td>\n",
       "    </tr>\n",
       "    <tr>\n",
       "      <th>78374</th>\n",
       "      <td>195938</td>\n",
       "      <td>131.789062</td>\n",
       "      <td>43.493074</td>\n",
       "      <td>0.049140</td>\n",
       "      <td>0.402859</td>\n",
       "      <td>2.116221</td>\n",
       "      <td>14.639555</td>\n",
       "      <td>10.898768</td>\n",
       "      <td>147.929016</td>\n",
       "    </tr>\n",
       "    <tr>\n",
       "      <th>78375</th>\n",
       "      <td>195939</td>\n",
       "      <td>79.476562</td>\n",
       "      <td>42.579993</td>\n",
       "      <td>0.817383</td>\n",
       "      <td>1.818474</td>\n",
       "      <td>1.903010</td>\n",
       "      <td>15.844982</td>\n",
       "      <td>10.723755</td>\n",
       "      <td>143.273847</td>\n",
       "    </tr>\n",
       "    <tr>\n",
       "      <th>78376</th>\n",
       "      <td>195940</td>\n",
       "      <td>68.265625</td>\n",
       "      <td>39.611800</td>\n",
       "      <td>1.924393</td>\n",
       "      <td>5.348909</td>\n",
       "      <td>20.903010</td>\n",
       "      <td>55.143702</td>\n",
       "      <td>2.489474</td>\n",
       "      <td>5.413000</td>\n",
       "    </tr>\n",
       "  </tbody>\n",
       "</table>\n",
       "<p>78377 rows × 9 columns</p>\n",
       "</div>"
      ],
      "text/plain": [
       "           id  Mean_Integrated         SD        EK  Skewness  \\\n",
       "0      117564       140.046875  54.507800  0.058862 -0.567263   \n",
       "1      117565       107.828125  51.578965  0.284368 -0.338430   \n",
       "2      117566       135.062500  49.812343 -0.087784 -0.094341   \n",
       "3      117567       112.812500  41.926647  0.519921  1.287762   \n",
       "4      117568        96.210938  35.322620  0.481286  2.443080   \n",
       "...       ...              ...        ...       ...       ...   \n",
       "78372  195936       119.328125  46.449223  0.227636  0.161986   \n",
       "78373  195937       125.835938  43.986678  0.078460  0.077917   \n",
       "78374  195938       131.789062  43.493074  0.049140  0.402859   \n",
       "78375  195939        79.476562  42.579993  0.817383  1.818474   \n",
       "78376  195940        68.265625  39.611800  1.924393  5.348909   \n",
       "\n",
       "       Mean_DMSNR_Curve  SD_DMSNR_Curve  EK_DMSNR_Curve  Skewness_DMSNR_Curve  \n",
       "0              2.337793       14.868335        9.591760            117.988781  \n",
       "1              1.574415       12.501437       11.694968            182.704822  \n",
       "2              3.576923       21.243336        7.252386             59.021499  \n",
       "3              6.669732       29.013153        5.097661             27.105240  \n",
       "4              2.218227       17.041064        9.766006            117.131775  \n",
       "...                 ...             ...             ...                   ...  \n",
       "78372          1.120401       13.883072       14.153556            213.485463  \n",
       "78373          2.342809       13.008583        9.907167            136.815454  \n",
       "78374          2.116221       14.639555       10.898768            147.929016  \n",
       "78375          1.903010       15.844982       10.723755            143.273847  \n",
       "78376         20.903010       55.143702        2.489474              5.413000  \n",
       "\n",
       "[78377 rows x 9 columns]"
      ]
     },
     "execution_count": 6,
     "metadata": {},
     "output_type": "execute_result"
    }
   ],
   "source": [
    "real_test \n",
    "# what we are trying to predict"
   ]
  },
  {
   "cell_type": "code",
   "execution_count": 7,
   "id": "bea32961",
   "metadata": {
    "execution": {
     "iopub.execute_input": "2023-03-13T03:51:19.673577Z",
     "iopub.status.busy": "2023-03-13T03:51:19.673163Z",
     "iopub.status.idle": "2023-03-13T03:51:20.590941Z",
     "shell.execute_reply": "2023-03-13T03:51:20.589590Z"
    },
    "papermill": {
     "duration": 0.927878,
     "end_time": "2023-03-13T03:51:20.593679",
     "exception": false,
     "start_time": "2023-03-13T03:51:19.665801",
     "status": "completed"
    },
    "tags": []
   },
   "outputs": [],
   "source": [
    "from sklearn.metrics import log_loss \n"
   ]
  },
  {
   "cell_type": "code",
   "execution_count": 8,
   "id": "d04026b1",
   "metadata": {
    "execution": {
     "iopub.execute_input": "2023-03-13T03:51:20.608876Z",
     "iopub.status.busy": "2023-03-13T03:51:20.607924Z",
     "iopub.status.idle": "2023-03-13T03:51:20.617766Z",
     "shell.execute_reply": "2023-03-13T03:51:20.616714Z"
    },
    "papermill": {
     "duration": 0.019647,
     "end_time": "2023-03-13T03:51:20.619797",
     "exception": false,
     "start_time": "2023-03-13T03:51:20.600150",
     "status": "completed"
    },
    "tags": []
   },
   "outputs": [],
   "source": [
    "X = df.drop([\"Class\"], axis=1)\n",
    "y = df[\"Class\"]"
   ]
  },
  {
   "cell_type": "code",
   "execution_count": 9,
   "id": "1c0039d0",
   "metadata": {
    "execution": {
     "iopub.execute_input": "2023-03-13T03:51:20.633699Z",
     "iopub.status.busy": "2023-03-13T03:51:20.633068Z",
     "iopub.status.idle": "2023-03-13T03:51:20.678629Z",
     "shell.execute_reply": "2023-03-13T03:51:20.677192Z"
    },
    "papermill": {
     "duration": 0.055444,
     "end_time": "2023-03-13T03:51:20.681380",
     "exception": false,
     "start_time": "2023-03-13T03:51:20.625936",
     "status": "completed"
    },
    "tags": []
   },
   "outputs": [],
   "source": [
    "from sklearn.model_selection import train_test_split\n",
    "X_train, X_test, y_train, y_test = train_test_split(\n",
    "    X, y, test_size=0.35, random_state=42)"
   ]
  },
  {
   "cell_type": "code",
   "execution_count": 10,
   "id": "49024337",
   "metadata": {
    "execution": {
     "iopub.execute_input": "2023-03-13T03:51:20.696927Z",
     "iopub.status.busy": "2023-03-13T03:51:20.695650Z",
     "iopub.status.idle": "2023-03-13T03:51:20.712077Z",
     "shell.execute_reply": "2023-03-13T03:51:20.711320Z"
    },
    "papermill": {
     "duration": 0.026716,
     "end_time": "2023-03-13T03:51:20.714591",
     "exception": false,
     "start_time": "2023-03-13T03:51:20.687875",
     "status": "completed"
    },
    "tags": []
   },
   "outputs": [
    {
     "data": {
      "text/html": [
       "<div>\n",
       "<style scoped>\n",
       "    .dataframe tbody tr th:only-of-type {\n",
       "        vertical-align: middle;\n",
       "    }\n",
       "\n",
       "    .dataframe tbody tr th {\n",
       "        vertical-align: top;\n",
       "    }\n",
       "\n",
       "    .dataframe thead th {\n",
       "        text-align: right;\n",
       "    }\n",
       "</style>\n",
       "<table border=\"1\" class=\"dataframe\">\n",
       "  <thead>\n",
       "    <tr style=\"text-align: right;\">\n",
       "      <th></th>\n",
       "      <th>id</th>\n",
       "      <th>Mean_Integrated</th>\n",
       "      <th>SD</th>\n",
       "      <th>EK</th>\n",
       "      <th>Skewness</th>\n",
       "      <th>Mean_DMSNR_Curve</th>\n",
       "      <th>SD_DMSNR_Curve</th>\n",
       "      <th>EK_DMSNR_Curve</th>\n",
       "      <th>Skewness_DMSNR_Curve</th>\n",
       "    </tr>\n",
       "  </thead>\n",
       "  <tbody>\n",
       "    <tr>\n",
       "      <th>70818</th>\n",
       "      <td>70818</td>\n",
       "      <td>127.257812</td>\n",
       "      <td>46.640114</td>\n",
       "      <td>-0.076570</td>\n",
       "      <td>-0.072931</td>\n",
       "      <td>3.673077</td>\n",
       "      <td>24.834040</td>\n",
       "      <td>7.740922</td>\n",
       "      <td>62.786255</td>\n",
       "    </tr>\n",
       "    <tr>\n",
       "      <th>11479</th>\n",
       "      <td>11479</td>\n",
       "      <td>129.304688</td>\n",
       "      <td>50.845459</td>\n",
       "      <td>-0.082341</td>\n",
       "      <td>-0.038894</td>\n",
       "      <td>1.167224</td>\n",
       "      <td>12.859284</td>\n",
       "      <td>13.221365</td>\n",
       "      <td>201.668757</td>\n",
       "    </tr>\n",
       "    <tr>\n",
       "      <th>63940</th>\n",
       "      <td>63940</td>\n",
       "      <td>120.304688</td>\n",
       "      <td>52.927757</td>\n",
       "      <td>0.056809</td>\n",
       "      <td>-0.396938</td>\n",
       "      <td>1.261706</td>\n",
       "      <td>11.647461</td>\n",
       "      <td>13.620135</td>\n",
       "      <td>236.316140</td>\n",
       "    </tr>\n",
       "    <tr>\n",
       "      <th>446</th>\n",
       "      <td>446</td>\n",
       "      <td>121.914062</td>\n",
       "      <td>52.102040</td>\n",
       "      <td>-0.075395</td>\n",
       "      <td>-0.395776</td>\n",
       "      <td>1.623746</td>\n",
       "      <td>15.097244</td>\n",
       "      <td>11.569182</td>\n",
       "      <td>147.139615</td>\n",
       "    </tr>\n",
       "    <tr>\n",
       "      <th>37856</th>\n",
       "      <td>37856</td>\n",
       "      <td>103.859375</td>\n",
       "      <td>47.391946</td>\n",
       "      <td>0.390330</td>\n",
       "      <td>0.287747</td>\n",
       "      <td>2.659699</td>\n",
       "      <td>16.111799</td>\n",
       "      <td>8.452671</td>\n",
       "      <td>86.408502</td>\n",
       "    </tr>\n",
       "    <tr>\n",
       "      <th>...</th>\n",
       "      <td>...</td>\n",
       "      <td>...</td>\n",
       "      <td>...</td>\n",
       "      <td>...</td>\n",
       "      <td>...</td>\n",
       "      <td>...</td>\n",
       "      <td>...</td>\n",
       "      <td>...</td>\n",
       "      <td>...</td>\n",
       "    </tr>\n",
       "    <tr>\n",
       "      <th>76820</th>\n",
       "      <td>76820</td>\n",
       "      <td>111.679688</td>\n",
       "      <td>47.929430</td>\n",
       "      <td>0.516412</td>\n",
       "      <td>0.581796</td>\n",
       "      <td>2.973244</td>\n",
       "      <td>18.958161</td>\n",
       "      <td>8.042284</td>\n",
       "      <td>73.163688</td>\n",
       "    </tr>\n",
       "    <tr>\n",
       "      <th>110268</th>\n",
       "      <td>110268</td>\n",
       "      <td>97.718750</td>\n",
       "      <td>49.695626</td>\n",
       "      <td>0.493286</td>\n",
       "      <td>0.174874</td>\n",
       "      <td>0.990803</td>\n",
       "      <td>10.469512</td>\n",
       "      <td>15.938185</td>\n",
       "      <td>308.955388</td>\n",
       "    </tr>\n",
       "    <tr>\n",
       "      <th>103694</th>\n",
       "      <td>103694</td>\n",
       "      <td>121.929688</td>\n",
       "      <td>50.890363</td>\n",
       "      <td>0.282531</td>\n",
       "      <td>-0.209978</td>\n",
       "      <td>3.681438</td>\n",
       "      <td>25.070439</td>\n",
       "      <td>7.236288</td>\n",
       "      <td>54.079476</td>\n",
       "    </tr>\n",
       "    <tr>\n",
       "      <th>860</th>\n",
       "      <td>860</td>\n",
       "      <td>101.242188</td>\n",
       "      <td>50.496838</td>\n",
       "      <td>0.464908</td>\n",
       "      <td>0.134085</td>\n",
       "      <td>4.157191</td>\n",
       "      <td>26.057511</td>\n",
       "      <td>6.585016</td>\n",
       "      <td>43.935780</td>\n",
       "    </tr>\n",
       "    <tr>\n",
       "      <th>15795</th>\n",
       "      <td>15795</td>\n",
       "      <td>123.039062</td>\n",
       "      <td>45.946238</td>\n",
       "      <td>0.038173</td>\n",
       "      <td>0.094685</td>\n",
       "      <td>2.719900</td>\n",
       "      <td>20.053327</td>\n",
       "      <td>8.094686</td>\n",
       "      <td>73.894572</td>\n",
       "    </tr>\n",
       "  </tbody>\n",
       "</table>\n",
       "<p>76416 rows × 9 columns</p>\n",
       "</div>"
      ],
      "text/plain": [
       "            id  Mean_Integrated         SD        EK  Skewness  \\\n",
       "70818    70818       127.257812  46.640114 -0.076570 -0.072931   \n",
       "11479    11479       129.304688  50.845459 -0.082341 -0.038894   \n",
       "63940    63940       120.304688  52.927757  0.056809 -0.396938   \n",
       "446        446       121.914062  52.102040 -0.075395 -0.395776   \n",
       "37856    37856       103.859375  47.391946  0.390330  0.287747   \n",
       "...        ...              ...        ...       ...       ...   \n",
       "76820    76820       111.679688  47.929430  0.516412  0.581796   \n",
       "110268  110268        97.718750  49.695626  0.493286  0.174874   \n",
       "103694  103694       121.929688  50.890363  0.282531 -0.209978   \n",
       "860        860       101.242188  50.496838  0.464908  0.134085   \n",
       "15795    15795       123.039062  45.946238  0.038173  0.094685   \n",
       "\n",
       "        Mean_DMSNR_Curve  SD_DMSNR_Curve  EK_DMSNR_Curve  Skewness_DMSNR_Curve  \n",
       "70818           3.673077       24.834040        7.740922             62.786255  \n",
       "11479           1.167224       12.859284       13.221365            201.668757  \n",
       "63940           1.261706       11.647461       13.620135            236.316140  \n",
       "446             1.623746       15.097244       11.569182            147.139615  \n",
       "37856           2.659699       16.111799        8.452671             86.408502  \n",
       "...                  ...             ...             ...                   ...  \n",
       "76820           2.973244       18.958161        8.042284             73.163688  \n",
       "110268          0.990803       10.469512       15.938185            308.955388  \n",
       "103694          3.681438       25.070439        7.236288             54.079476  \n",
       "860             4.157191       26.057511        6.585016             43.935780  \n",
       "15795           2.719900       20.053327        8.094686             73.894572  \n",
       "\n",
       "[76416 rows x 9 columns]"
      ]
     },
     "execution_count": 10,
     "metadata": {},
     "output_type": "execute_result"
    }
   ],
   "source": [
    "X_train"
   ]
  },
  {
   "cell_type": "code",
   "execution_count": 11,
   "id": "427ce519",
   "metadata": {
    "execution": {
     "iopub.execute_input": "2023-03-13T03:51:20.731338Z",
     "iopub.status.busy": "2023-03-13T03:51:20.730275Z",
     "iopub.status.idle": "2023-03-13T03:51:22.013811Z",
     "shell.execute_reply": "2023-03-13T03:51:22.012701Z"
    },
    "papermill": {
     "duration": 1.294947,
     "end_time": "2023-03-13T03:51:22.016454",
     "exception": false,
     "start_time": "2023-03-13T03:51:20.721507",
     "status": "completed"
    },
    "tags": []
   },
   "outputs": [
    {
     "data": {
      "text/plain": [
       "0.7663571975899011"
      ]
     },
     "execution_count": 11,
     "metadata": {},
     "output_type": "execute_result"
    }
   ],
   "source": [
    "from sklearn.neighbors import KNeighborsClassifier\n",
    "neigh = KNeighborsClassifier(n_neighbors=3)\n",
    "neigh.fit(X_train, y_train)\n",
    "y_pred = neigh.predict(X_test)\n",
    "log_loss(y_test,y_pred)"
   ]
  },
  {
   "cell_type": "code",
   "execution_count": 12,
   "id": "4a325af4",
   "metadata": {
    "execution": {
     "iopub.execute_input": "2023-03-13T03:51:22.032086Z",
     "iopub.status.busy": "2023-03-13T03:51:22.031658Z",
     "iopub.status.idle": "2023-03-13T03:51:23.353580Z",
     "shell.execute_reply": "2023-03-13T03:51:23.352345Z"
    },
    "papermill": {
     "duration": 1.332429,
     "end_time": "2023-03-13T03:51:23.355770",
     "exception": false,
     "start_time": "2023-03-13T03:51:22.023341",
     "status": "completed"
    },
    "tags": []
   },
   "outputs": [
    {
     "data": {
      "text/plain": [
       "0.5447636469581418"
      ]
     },
     "execution_count": 12,
     "metadata": {},
     "output_type": "execute_result"
    }
   ],
   "source": [
    "from sklearn import tree\n",
    "tr = tree.DecisionTreeClassifier()\n",
    "tr = tr.fit(X_train, y_train)\n",
    "y_pred = tr.predict(X_test)\n",
    "log_loss(y_test,y_pred)"
   ]
  },
  {
   "cell_type": "code",
   "execution_count": 13,
   "id": "d094a818",
   "metadata": {
    "execution": {
     "iopub.execute_input": "2023-03-13T03:51:23.371975Z",
     "iopub.status.busy": "2023-03-13T03:51:23.371481Z",
     "iopub.status.idle": "2023-03-13T03:51:23.385448Z",
     "shell.execute_reply": "2023-03-13T03:51:23.384241Z"
    },
    "papermill": {
     "duration": 0.025004,
     "end_time": "2023-03-13T03:51:23.388028",
     "exception": false,
     "start_time": "2023-03-13T03:51:23.363024",
     "status": "completed"
    },
    "tags": []
   },
   "outputs": [],
   "source": [
    "sub  =  tr.predict(real_test)"
   ]
  },
  {
   "cell_type": "code",
   "execution_count": 14,
   "id": "926a1e73",
   "metadata": {
    "execution": {
     "iopub.execute_input": "2023-03-13T03:51:23.403537Z",
     "iopub.status.busy": "2023-03-13T03:51:23.403096Z",
     "iopub.status.idle": "2023-03-13T03:51:23.408097Z",
     "shell.execute_reply": "2023-03-13T03:51:23.407164Z"
    },
    "papermill": {
     "duration": 0.014933,
     "end_time": "2023-03-13T03:51:23.409965",
     "exception": false,
     "start_time": "2023-03-13T03:51:23.395032",
     "status": "completed"
    },
    "tags": []
   },
   "outputs": [],
   "source": [
    "sub = pd.DataFrame(sub )"
   ]
  },
  {
   "cell_type": "code",
   "execution_count": 15,
   "id": "d581e4f2",
   "metadata": {
    "execution": {
     "iopub.execute_input": "2023-03-13T03:51:23.425995Z",
     "iopub.status.busy": "2023-03-13T03:51:23.425323Z",
     "iopub.status.idle": "2023-03-13T03:51:23.430567Z",
     "shell.execute_reply": "2023-03-13T03:51:23.429390Z"
    },
    "papermill": {
     "duration": 0.016267,
     "end_time": "2023-03-13T03:51:23.433216",
     "exception": false,
     "start_time": "2023-03-13T03:51:23.416949",
     "status": "completed"
    },
    "tags": []
   },
   "outputs": [],
   "source": [
    "sub.set_axis([\"Class\"],axis=1,inplace=True)"
   ]
  },
  {
   "cell_type": "code",
   "execution_count": 16,
   "id": "2de3eb31",
   "metadata": {
    "execution": {
     "iopub.execute_input": "2023-03-13T03:51:23.449040Z",
     "iopub.status.busy": "2023-03-13T03:51:23.448324Z",
     "iopub.status.idle": "2023-03-13T03:51:23.460545Z",
     "shell.execute_reply": "2023-03-13T03:51:23.458264Z"
    },
    "papermill": {
     "duration": 0.022674,
     "end_time": "2023-03-13T03:51:23.462791",
     "exception": false,
     "start_time": "2023-03-13T03:51:23.440117",
     "status": "completed"
    },
    "tags": []
   },
   "outputs": [
    {
     "name": "stdout",
     "output_type": "stream",
     "text": [
      "<class 'pandas.core.frame.DataFrame'>\n",
      "RangeIndex: 78377 entries, 0 to 78376\n",
      "Data columns (total 1 columns):\n",
      " #   Column  Non-Null Count  Dtype\n",
      "---  ------  --------------  -----\n",
      " 0   Class   78377 non-null  int64\n",
      "dtypes: int64(1)\n",
      "memory usage: 612.4 KB\n"
     ]
    }
   ],
   "source": [
    "sub.info()"
   ]
  },
  {
   "cell_type": "code",
   "execution_count": 17,
   "id": "d3ae2bf3",
   "metadata": {
    "execution": {
     "iopub.execute_input": "2023-03-13T03:51:23.479312Z",
     "iopub.status.busy": "2023-03-13T03:51:23.477767Z",
     "iopub.status.idle": "2023-03-13T03:51:23.494250Z",
     "shell.execute_reply": "2023-03-13T03:51:23.491836Z"
    },
    "papermill": {
     "duration": 0.027351,
     "end_time": "2023-03-13T03:51:23.497074",
     "exception": false,
     "start_time": "2023-03-13T03:51:23.469723",
     "status": "completed"
    },
    "tags": []
   },
   "outputs": [
    {
     "name": "stdout",
     "output_type": "stream",
     "text": [
      "<class 'pandas.core.frame.DataFrame'>\n",
      "RangeIndex: 78377 entries, 0 to 78376\n",
      "Data columns (total 9 columns):\n",
      " #   Column                Non-Null Count  Dtype  \n",
      "---  ------                --------------  -----  \n",
      " 0   id                    78377 non-null  int64  \n",
      " 1   Mean_Integrated       78377 non-null  float64\n",
      " 2   SD                    78377 non-null  float64\n",
      " 3   EK                    78377 non-null  float64\n",
      " 4   Skewness              78377 non-null  float64\n",
      " 5   Mean_DMSNR_Curve      78377 non-null  float64\n",
      " 6   SD_DMSNR_Curve        78377 non-null  float64\n",
      " 7   EK_DMSNR_Curve        78377 non-null  float64\n",
      " 8   Skewness_DMSNR_Curve  78377 non-null  float64\n",
      "dtypes: float64(8), int64(1)\n",
      "memory usage: 5.4 MB\n"
     ]
    }
   ],
   "source": [
    "real_test.info()"
   ]
  },
  {
   "cell_type": "code",
   "execution_count": 18,
   "id": "3587c571",
   "metadata": {
    "execution": {
     "iopub.execute_input": "2023-03-13T03:51:23.515407Z",
     "iopub.status.busy": "2023-03-13T03:51:23.513600Z",
     "iopub.status.idle": "2023-03-13T03:51:23.526598Z",
     "shell.execute_reply": "2023-03-13T03:51:23.524928Z"
    },
    "papermill": {
     "duration": 0.024858,
     "end_time": "2023-03-13T03:51:23.529500",
     "exception": false,
     "start_time": "2023-03-13T03:51:23.504642",
     "status": "completed"
    },
    "tags": []
   },
   "outputs": [],
   "source": [
    "real_sub = real_test[\"id\"]\n",
    "real_sub = pd.DataFrame(real_sub)\n",
    "real_sub = real_sub.join(sub)"
   ]
  },
  {
   "cell_type": "code",
   "execution_count": 19,
   "id": "97a40f3b",
   "metadata": {
    "execution": {
     "iopub.execute_input": "2023-03-13T03:51:23.546968Z",
     "iopub.status.busy": "2023-03-13T03:51:23.546430Z",
     "iopub.status.idle": "2023-03-13T03:51:23.621293Z",
     "shell.execute_reply": "2023-03-13T03:51:23.619993Z"
    },
    "papermill": {
     "duration": 0.087035,
     "end_time": "2023-03-13T03:51:23.624047",
     "exception": false,
     "start_time": "2023-03-13T03:51:23.537012",
     "status": "completed"
    },
    "tags": []
   },
   "outputs": [],
   "source": [
    "real_sub.to_csv(\"submission.csv\", index =False)"
   ]
  },
  {
   "cell_type": "code",
   "execution_count": 20,
   "id": "3183a13a",
   "metadata": {
    "execution": {
     "iopub.execute_input": "2023-03-13T03:51:23.640946Z",
     "iopub.status.busy": "2023-03-13T03:51:23.640501Z",
     "iopub.status.idle": "2023-03-13T03:51:23.652715Z",
     "shell.execute_reply": "2023-03-13T03:51:23.651560Z"
    },
    "papermill": {
     "duration": 0.023535,
     "end_time": "2023-03-13T03:51:23.654805",
     "exception": false,
     "start_time": "2023-03-13T03:51:23.631270",
     "status": "completed"
    },
    "tags": []
   },
   "outputs": [
    {
     "data": {
      "text/html": [
       "<div>\n",
       "<style scoped>\n",
       "    .dataframe tbody tr th:only-of-type {\n",
       "        vertical-align: middle;\n",
       "    }\n",
       "\n",
       "    .dataframe tbody tr th {\n",
       "        vertical-align: top;\n",
       "    }\n",
       "\n",
       "    .dataframe thead th {\n",
       "        text-align: right;\n",
       "    }\n",
       "</style>\n",
       "<table border=\"1\" class=\"dataframe\">\n",
       "  <thead>\n",
       "    <tr style=\"text-align: right;\">\n",
       "      <th></th>\n",
       "      <th>id</th>\n",
       "      <th>Class</th>\n",
       "    </tr>\n",
       "  </thead>\n",
       "  <tbody>\n",
       "    <tr>\n",
       "      <th>0</th>\n",
       "      <td>117564</td>\n",
       "      <td>0</td>\n",
       "    </tr>\n",
       "    <tr>\n",
       "      <th>1</th>\n",
       "      <td>117565</td>\n",
       "      <td>0</td>\n",
       "    </tr>\n",
       "    <tr>\n",
       "      <th>2</th>\n",
       "      <td>117566</td>\n",
       "      <td>0</td>\n",
       "    </tr>\n",
       "    <tr>\n",
       "      <th>3</th>\n",
       "      <td>117567</td>\n",
       "      <td>0</td>\n",
       "    </tr>\n",
       "    <tr>\n",
       "      <th>4</th>\n",
       "      <td>117568</td>\n",
       "      <td>0</td>\n",
       "    </tr>\n",
       "    <tr>\n",
       "      <th>...</th>\n",
       "      <td>...</td>\n",
       "      <td>...</td>\n",
       "    </tr>\n",
       "    <tr>\n",
       "      <th>78372</th>\n",
       "      <td>195936</td>\n",
       "      <td>0</td>\n",
       "    </tr>\n",
       "    <tr>\n",
       "      <th>78373</th>\n",
       "      <td>195937</td>\n",
       "      <td>0</td>\n",
       "    </tr>\n",
       "    <tr>\n",
       "      <th>78374</th>\n",
       "      <td>195938</td>\n",
       "      <td>0</td>\n",
       "    </tr>\n",
       "    <tr>\n",
       "      <th>78375</th>\n",
       "      <td>195939</td>\n",
       "      <td>0</td>\n",
       "    </tr>\n",
       "    <tr>\n",
       "      <th>78376</th>\n",
       "      <td>195940</td>\n",
       "      <td>1</td>\n",
       "    </tr>\n",
       "  </tbody>\n",
       "</table>\n",
       "<p>78377 rows × 2 columns</p>\n",
       "</div>"
      ],
      "text/plain": [
       "           id  Class\n",
       "0      117564      0\n",
       "1      117565      0\n",
       "2      117566      0\n",
       "3      117567      0\n",
       "4      117568      0\n",
       "...       ...    ...\n",
       "78372  195936      0\n",
       "78373  195937      0\n",
       "78374  195938      0\n",
       "78375  195939      0\n",
       "78376  195940      1\n",
       "\n",
       "[78377 rows x 2 columns]"
      ]
     },
     "execution_count": 20,
     "metadata": {},
     "output_type": "execute_result"
    }
   ],
   "source": [
    "real_sub"
   ]
  },
  {
   "cell_type": "code",
   "execution_count": null,
   "id": "30eb0736",
   "metadata": {
    "papermill": {
     "duration": 0.006666,
     "end_time": "2023-03-13T03:51:23.668423",
     "exception": false,
     "start_time": "2023-03-13T03:51:23.661757",
     "status": "completed"
    },
    "tags": []
   },
   "outputs": [],
   "source": []
  }
 ],
 "metadata": {
  "kernelspec": {
   "display_name": "Python 3",
   "language": "python",
   "name": "python3"
  },
  "language_info": {
   "codemirror_mode": {
    "name": "ipython",
    "version": 3
   },
   "file_extension": ".py",
   "mimetype": "text/x-python",
   "name": "python",
   "nbconvert_exporter": "python",
   "pygments_lexer": "ipython3",
   "version": "3.7.12"
  },
  "papermill": {
   "default_parameters": {},
   "duration": 15.925389,
   "end_time": "2023-03-13T03:51:24.598673",
   "environment_variables": {},
   "exception": null,
   "input_path": "__notebook__.ipynb",
   "output_path": "__notebook__.ipynb",
   "parameters": {},
   "start_time": "2023-03-13T03:51:08.673284",
   "version": "2.4.0"
  }
 },
 "nbformat": 4,
 "nbformat_minor": 5
}
